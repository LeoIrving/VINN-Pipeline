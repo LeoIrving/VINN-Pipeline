{
 "cells": [
  {
   "cell_type": "code",
   "execution_count": 45,
   "metadata": {},
   "outputs": [],
   "source": [
    "import liblzfse\n",
    "import numpy as np\n",
    "import cv2\n",
    "import PIL\n",
    "import matplotlib.pyplot as plt\n",
    "import open3d as o3d\n",
    "from quaternion import quaternion, as_rotation_matrix\n",
    "from PIL import Image\n",
    "import json\n",
    "import tqdm\n",
    "from torch.utils.data import Dataset\n",
    "from typing import List\n",
    "import os\n",
    "import pickle as pkl\n",
    "import json\n",
    "import shutil\n",
    "import zipfile"
   ]
  },
  {
   "cell_type": "code",
   "execution_count": 46,
   "metadata": {},
   "outputs": [],
   "source": [
    "def load_image(filepath):\n",
    "    return np.asarray(Image.open(filepath))\n",
    "\n",
    "def load_depth(filepath):\n",
    "    with open(filepath, 'rb') as depth_fh:\n",
    "        raw_bytes = depth_fh.read()\n",
    "        decompressed_bytes = liblzfse.decompress(raw_bytes)\n",
    "        depth_img = np.frombuffer(decompressed_bytes, dtype=np.float32)\n",
    "\n",
    "    # depth_img = depth_img.reshape((960, 720))  # For a FaceID camera 3D Video\n",
    "    depth_img = depth_img.reshape((256, 192))  # For a LiDAR 3D Video\n",
    "\n",
    "    return depth_img\n",
    "\n",
    "def load_conf(filepath):\n",
    "    with open(filepath, 'rb') as depth_fh:\n",
    "        raw_bytes = depth_fh.read()\n",
    "        decompressed_bytes = liblzfse.decompress(raw_bytes)\n",
    "        depth_img = np.frombuffer(decompressed_bytes, dtype=np.uint8)\n",
    "    return depth_img"
   ]
  },
  {
   "cell_type": "code",
   "execution_count": 47,
   "metadata": {},
   "outputs": [],
   "source": [
    "class R3DSemanticDataset(Dataset):\n",
    "    def __init__(self, path: str, custom_classes: List[str] = None):\n",
    "        self._path = path\n",
    "        \n",
    "        self._reshaped_depth = []\n",
    "        self._reshaped_conf = []\n",
    "        self._depth_images = []\n",
    "        self._rgb_images = []\n",
    "        self._confidences = []\n",
    "\n",
    "        self._metadata = self._read_metadata(path, custom_classes)\n",
    "        self.global_xyzs = []\n",
    "        self.global_pcds = []\n",
    "        self._load_data()\n",
    "        self._reshape_all_depth_and_conf()\n",
    "        self.calculate_all_global_xyzs()\n",
    "\n",
    "    def _read_metadata(self, path, custom_classes):\n",
    "        with open(f\"{path}/metadata\", \"r\") as f:\n",
    "            metadata_dict = json.load(f)\n",
    "            \n",
    "        # Now figure out the details from the metadata dict.\n",
    "        self.rgb_width = metadata_dict[\"w\"]\n",
    "        self.rgb_height = metadata_dict[\"h\"]\n",
    "        self.image_size = (self.rgb_width, self.rgb_height)\n",
    "        \n",
    "        self.poses = np.array(metadata_dict[\"poses\"])\n",
    "        self.camera_matrix = np.array(metadata_dict[\"K\"]).reshape(3,3).T\n",
    "        \n",
    "        self.fps = metadata_dict[\"fps\"]\n",
    "        \n",
    "        self.total_images = len(self.poses)\n",
    "        self.init_pose = np.array(metadata_dict[\"initPose\"])\n",
    "        \n",
    "        self._id_to_name = {i: x for (i, x) in enumerate(custom_classes)} # There are no predefined IDs and names.\n",
    "\n",
    "    def _load_data(self):\n",
    "        assert self.fps # Make sure metadata is read correctly first.\n",
    "        for i in tqdm.trange(self.total_images):\n",
    "            # Read up the RGB and depth images first.\n",
    "            rgb_filepath = f\"{self._path}/rgbd/{i}.jpg\"\n",
    "            depth_filepath = f\"{self._path}/rgbd/{i}.depth\"\n",
    "            conf_filepath = f\"{self._path}/rgbd/{i}.conf\"\n",
    "            \n",
    "            depth_img = load_depth(depth_filepath)\n",
    "            rgb_img = load_image(rgb_filepath)\n",
    "            confidence = load_conf(conf_filepath).reshape(256, 192)\n",
    "            \n",
    "            # Now, convert depth image to real world XYZ pointcloud.\n",
    "            self._depth_images.append(depth_img)\n",
    "            self._rgb_images.append(rgb_img)\n",
    "            self._confidences.append(confidence)\n",
    "\n",
    "    def _reshape_all_depth_and_conf(self):\n",
    "        for index in tqdm.trange(len(self.poses)):\n",
    "            depth_image = self._depth_images[index]\n",
    "            # Upscale depth image.\n",
    "            pil_img = Image.fromarray(depth_image)\n",
    "            reshaped_img = pil_img.resize((self.rgb_width, self.rgb_height))\n",
    "            # all_rgbs.append()\n",
    "            reshaped_img = np.asarray(reshaped_img)\n",
    "            self._reshaped_depth.append(reshaped_img)\n",
    "            \n",
    "            # Upscale confidence as well\n",
    "            confidence = self._confidences[index]\n",
    "            # Upscale depth image.\n",
    "            conf_img = Image.fromarray(confidence)\n",
    "            reshaped_conf = conf_img.resize((self.rgb_width, self.rgb_height))\n",
    "            # all_rgbs.append()\n",
    "            reshaped_conf = np.asarray(reshaped_conf)\n",
    "            self._reshaped_conf.append(reshaped_conf)\n",
    "            \n",
    "    def get_global_xyz(self, index, depth_scale=1000.0, only_confident=True):\n",
    "        reshaped_img = np.copy(self._reshaped_depth[index])\n",
    "        # If only confident, replace not confident points with nans\n",
    "        if only_confident:\n",
    "            reshaped_img[self._reshaped_conf[index] != 2] = np.nan\n",
    "\n",
    "        depth_o3d = o3d.geometry.Image(np.ascontiguousarray(depth_scale * reshaped_img).astype(np.float32))\n",
    "        rgb_o3d = o3d.geometry.Image(np.ascontiguousarray(self._rgb_images[index]).astype(np.uint8))\n",
    "\n",
    "        rgbd_image = o3d.geometry.RGBDImage.create_from_color_and_depth(rgb_o3d, depth_o3d, convert_rgb_to_intensity=False)\n",
    "        # ratio = 2 56 / 960\n",
    "        ratio = 1\n",
    "\n",
    "        camera_intrinsics = o3d.camera.PinholeCameraIntrinsic(\n",
    "            width=int(self.rgb_width * ratio), \n",
    "            height=int(self.rgb_height * ratio), \n",
    "            fx=self.camera_matrix[0, 0] * ratio,\n",
    "            fy=self.camera_matrix[1, 1] * ratio,\n",
    "            cx=self.camera_matrix[0, 2] * ratio,\n",
    "            cy=self.camera_matrix[1, 2] * ratio\n",
    "        )\n",
    "        pcd = o3d.geometry.PointCloud.create_from_rgbd_image(rgbd_image, camera_intrinsics)\n",
    "        # Flip the pcd\n",
    "        pcd.transform([[1, 0, 0, 0], [0, -1, 0, 0], [0, 0, -1, 0], [0, 0, 0, 1]])\n",
    "\n",
    "        extrinsic_matrix = np.eye(4)\n",
    "        qx, qy, qz, qw, px, py, pz = self.poses[index]\n",
    "        extrinsic_matrix[:3, :3] = as_rotation_matrix(quaternion(qw, qx, qy, qz))\n",
    "        extrinsic_matrix[:3, -1] = [px, py, pz]\n",
    "        pcd.transform(extrinsic_matrix)\n",
    "\n",
    "        # Now transform everything by init pose.\n",
    "        # self.init_pose = np.array(self.poses[5])\n",
    "        init_matrix = np.eye(4)\n",
    "        qx, qy, qz, qw, px, py, pz = self.init_pose\n",
    "        init_matrix[:3, :3] = as_rotation_matrix(quaternion(qw, qx, qy, qz))\n",
    "        init_matrix[:3, -1] = [px, py, pz]\n",
    "        pcd.transform(init_matrix)\n",
    "\n",
    "        return pcd\n",
    "\n",
    "    def calculate_all_global_xyzs(self, only_confident=True):\n",
    "        if len(self.global_xyzs):\n",
    "            return self.global_xyzs, self.global_pcds\n",
    "        for i in tqdm.trange(len(self.poses)):\n",
    "            global_xyz_pcd = self.get_global_xyz(i, only_confident=only_confident)\n",
    "            global_xyz = np.asarray(global_xyz_pcd.points)\n",
    "            self.global_xyzs.append(global_xyz)\n",
    "            self.global_pcds.append(global_xyz_pcd)\n",
    "        return self.global_xyzs, self.global_pcds\n",
    "\n",
    "    def __len__(self):\n",
    "        return len(self.poses)\n",
    "\n",
    "    def __getitem__(self, idx):\n",
    "        result = {\n",
    "            \"xyz_position\": self.global_xyzs[idx],\n",
    "            \"rgb\": self._rgb_images[idx],\n",
    "            \"depth\": self._reshaped_depth[idx],\n",
    "            \"conf\": self._reshaped_conf[idx],\n",
    "        }\n",
    "        return result"
   ]
  },
  {
   "cell_type": "code",
   "execution_count": 48,
   "metadata": {},
   "outputs": [],
   "source": [
    "start = 5\n",
    "step = 6\n",
    "def export(dataset,FILENAME,out_dir):\n",
    "    count = 0\n",
    "    # Open folder run{count}\n",
    "    cur_dir = out_dir\n",
    "    for i in range(9999):\n",
    "        folder = os.path.join(cur_dir,\"run{}\".format(i))\n",
    "        if not os.path.exists(folder):\n",
    "            break\n",
    "    os.mkdir(folder)\n",
    "    # Open folder image_linear\n",
    "    imagefolder = os.path.join(folder,\"images\")\n",
    "    os.mkdir(imagefolder)\n",
    "    # Save image in order with name \"0000.jpg\"\n",
    "    j = 0\n",
    "    for i in tqdm.tqdm(range(start,len(dataset._rgb_images),step)):\n",
    "        im_arr = np.rot90(dataset._rgb_images[i],3)\n",
    "        image = Image.fromarray(im_arr)\n",
    "        imagename = \"{:04d}.jpg\".format(j)\n",
    "        imagefile = os.path.join(imagefolder,imagename)\n",
    "        image.save(imagefile)\n",
    "        j = j+1\n",
    "    # Save depth in order with name \"0000.depth\"\n",
    "    ##############################################\n",
    "    # info = {}\n",
    "    # for i in range(len(dataset._reshaped_depth)):\n",
    "    #     info[\"{:04d}.jpg\".format(i)] = dataset._reshaped_depth[i].tolist()\n",
    "    # depthfile = os.path.join(folder,\"depth.json\")\n",
    "    # with open(depthfile,\"w\") as f:\n",
    "    #     data = json.dumps(info)\n",
    "    #     f.write(data)\n",
    "    ##############################################\n",
    "    depthfolder = os.path.join(folder,\"depths\")\n",
    "    os.mkdir(depthfolder)\n",
    "    j = 0\n",
    "    for i in tqdm.tqdm(range(start,len(dataset._reshaped_depth),step)):\n",
    "        path_depthfile = f\"{FILENAME}/rgbd/{i}.depth\"\n",
    "        shutil.copy2(path_depthfile,depthfolder)\n",
    "        path_new = os.path.join(depthfolder,f\"{i}.depth\")\n",
    "        os.rename(path_new,os.path.join(depthfolder,\"{:04d}.depth\".format(j)))\n",
    "        j = j+1\n",
    "    ##############################################\n",
    "    # depthfolder = os.path.join(folder,\"depth_linear\")\n",
    "    # os.mkdir(depthfolder)\n",
    "    # for i in tqdm.tqdm(range(len(dataset._reshaped_depth))):\n",
    "    #     txtname = \"{:04d}.pkl\".format(i)\n",
    "    #     txtfile = os.path.join(depthfolder,txtname)\n",
    "    #     with open(txtfile,\"wb\") as f:\n",
    "    #         pkl.dump(dataset._reshaped_depth[i],f)\n",
    "    ##############################################\n",
    "    # Save conf in order with name \"0000.conf\"\n",
    "    conffolder = os.path.join(folder,\"confs\")\n",
    "    os.mkdir(conffolder)\n",
    "    j = 0\n",
    "    for i in tqdm.tqdm(range(start,len(dataset._reshaped_conf),step)):\n",
    "        path_conffile = f\"{FILENAME}/rgbd/{i}.conf\"\n",
    "        shutil.copy2(path_conffile,conffolder)\n",
    "        path_new = os.path.join(conffolder,f\"{i}.conf\")\n",
    "        os.rename(path_new,os.path.join(conffolder,\"{:04d}.conf\".format(j)))\n",
    "        j = j+1\n",
    "    # Save pose in json file\n",
    "    directory = {}\n",
    "    j = 0\n",
    "    for i in tqdm.tqdm(range(start,len(dataset.poses),step)):\n",
    "        directory[\"{:04d}.jpg\".format(j)] = dataset.poses[i].tolist()\n",
    "        j = j+1\n",
    "    labelfile = os.path.join(folder,\"label.json\")\n",
    "    with open(labelfile,\"w\") as f:\n",
    "        data = json.dumps(directory)\n",
    "        f.write(data)\n",
    "    return 0"
   ]
  },
  {
   "cell_type": "code",
   "execution_count": 49,
   "metadata": {},
   "outputs": [
    {
     "name": "stdout",
     "output_type": "stream",
     "text": [
      "2022-10-26--21-43-38\n"
     ]
    },
    {
     "name": "stderr",
     "output_type": "stream",
     "text": [
      "100%|██████████| 160/160 [00:01<00:00, 83.93it/s]\n",
      "100%|██████████| 160/160 [00:02<00:00, 76.65it/s]\n",
      "100%|██████████| 160/160 [00:12<00:00, 12.78it/s]\n",
      "100%|██████████| 26/26 [00:01<00:00, 24.51it/s]\n",
      "100%|██████████| 26/26 [00:00<00:00, 129.61it/s]\n",
      "100%|██████████| 26/26 [00:00<00:00, 175.94it/s]\n",
      "100%|██████████| 26/26 [00:00<00:00, 8689.39it/s]\n"
     ]
    },
    {
     "name": "stdout",
     "output_type": "stream",
     "text": [
      "2022-10-26--21-44-05\n"
     ]
    },
    {
     "name": "stderr",
     "output_type": "stream",
     "text": [
      "100%|██████████| 152/152 [00:02<00:00, 74.61it/s]\n",
      "100%|██████████| 152/152 [00:02<00:00, 53.78it/s]\n",
      "100%|██████████| 152/152 [00:08<00:00, 16.93it/s]\n",
      "100%|██████████| 25/25 [00:00<00:00, 27.88it/s]\n",
      "100%|██████████| 25/25 [00:00<00:00, 187.95it/s]\n",
      "100%|██████████| 25/25 [00:00<00:00, 253.32it/s]\n",
      "100%|██████████| 25/25 [00:00<?, ?it/s]\n"
     ]
    },
    {
     "name": "stdout",
     "output_type": "stream",
     "text": [
      "2022-10-26--21-45-38\n"
     ]
    },
    {
     "name": "stderr",
     "output_type": "stream",
     "text": [
      "100%|██████████| 287/287 [00:02<00:00, 96.38it/s] \n",
      "100%|██████████| 287/287 [00:03<00:00, 75.42it/s]\n",
      "100%|██████████| 287/287 [00:19<00:00, 14.44it/s]\n",
      "100%|██████████| 47/47 [00:01<00:00, 25.64it/s]\n",
      "100%|██████████| 47/47 [00:00<00:00, 166.71it/s]\n",
      "100%|██████████| 47/47 [00:00<00:00, 190.03it/s]\n",
      "100%|██████████| 47/47 [00:00<00:00, 12422.48it/s]\n"
     ]
    },
    {
     "name": "stdout",
     "output_type": "stream",
     "text": [
      "2022-10-26--21-45-59\n"
     ]
    },
    {
     "name": "stderr",
     "output_type": "stream",
     "text": [
      "100%|██████████| 225/225 [00:02<00:00, 77.59it/s]\n",
      "100%|██████████| 225/225 [00:03<00:00, 70.39it/s]\n",
      "100%|██████████| 225/225 [00:14<00:00, 15.44it/s]\n",
      "100%|██████████| 37/37 [00:01<00:00, 32.71it/s]\n",
      "100%|██████████| 37/37 [00:00<00:00, 152.70it/s]\n",
      "100%|██████████| 37/37 [00:00<00:00, 214.94it/s]\n",
      "100%|██████████| 37/37 [00:00<00:00, 37117.73it/s]\n"
     ]
    },
    {
     "name": "stdout",
     "output_type": "stream",
     "text": [
      "2022-10-26--21-46-17\n"
     ]
    },
    {
     "name": "stderr",
     "output_type": "stream",
     "text": [
      "100%|██████████| 259/259 [00:02<00:00, 92.74it/s]\n",
      "100%|██████████| 259/259 [00:04<00:00, 60.60it/s]\n",
      "100%|██████████| 259/259 [00:17<00:00, 14.76it/s]\n",
      "100%|██████████| 43/43 [00:01<00:00, 30.51it/s]\n",
      "100%|██████████| 43/43 [00:00<00:00, 141.63it/s]\n",
      "100%|██████████| 43/43 [00:00<00:00, 184.35it/s]\n",
      "100%|██████████| 43/43 [00:00<00:00, 43188.48it/s]\n"
     ]
    },
    {
     "name": "stdout",
     "output_type": "stream",
     "text": [
      "2022-10-26--21-46-33\n"
     ]
    },
    {
     "name": "stderr",
     "output_type": "stream",
     "text": [
      "100%|██████████| 239/239 [00:02<00:00, 81.75it/s]\n",
      "100%|██████████| 239/239 [00:03<00:00, 64.99it/s]\n",
      "100%|██████████| 239/239 [00:14<00:00, 16.97it/s]\n",
      "100%|██████████| 39/39 [00:01<00:00, 29.16it/s]\n",
      "100%|██████████| 39/39 [00:00<00:00, 152.19it/s]\n",
      "100%|██████████| 39/39 [00:00<00:00, 202.64it/s]\n",
      "100%|██████████| 39/39 [00:00<00:00, 19585.47it/s]\n"
     ]
    },
    {
     "name": "stdout",
     "output_type": "stream",
     "text": [
      "2022-10-26--21-46-48\n"
     ]
    },
    {
     "name": "stderr",
     "output_type": "stream",
     "text": [
      "100%|██████████| 222/222 [00:03<00:00, 60.69it/s]\n",
      "100%|██████████| 222/222 [00:04<00:00, 50.28it/s]\n",
      "100%|██████████| 222/222 [00:12<00:00, 17.11it/s]\n",
      "100%|██████████| 37/37 [00:01<00:00, 32.32it/s]\n",
      "100%|██████████| 37/37 [00:00<00:00, 156.03it/s]\n",
      "100%|██████████| 37/37 [00:00<00:00, 159.55it/s]\n",
      "100%|██████████| 37/37 [00:00<00:00, 14812.37it/s]\n"
     ]
    },
    {
     "name": "stdout",
     "output_type": "stream",
     "text": [
      "2022-10-26--21-47-04\n"
     ]
    },
    {
     "name": "stderr",
     "output_type": "stream",
     "text": [
      "100%|██████████| 200/200 [00:02<00:00, 91.03it/s]\n",
      "100%|██████████| 200/200 [00:03<00:00, 52.42it/s]\n",
      "100%|██████████| 200/200 [00:11<00:00, 17.76it/s]\n",
      "100%|██████████| 33/33 [00:01<00:00, 30.53it/s]\n",
      "100%|██████████| 33/33 [00:00<00:00, 143.32it/s]\n",
      "100%|██████████| 33/33 [00:00<00:00, 181.35it/s]\n",
      "100%|██████████| 33/33 [00:00<00:00, 33136.71it/s]\n"
     ]
    },
    {
     "name": "stdout",
     "output_type": "stream",
     "text": [
      "2022-10-26--21-47-19\n"
     ]
    },
    {
     "name": "stderr",
     "output_type": "stream",
     "text": [
      "100%|██████████| 217/217 [00:02<00:00, 79.26it/s]\n",
      "100%|██████████| 217/217 [00:03<00:00, 69.89it/s]\n",
      "100%|██████████| 217/217 [00:14<00:00, 14.68it/s]\n",
      "100%|██████████| 36/36 [00:01<00:00, 31.56it/s]\n",
      "100%|██████████| 36/36 [00:00<00:00, 150.02it/s]\n",
      "100%|██████████| 36/36 [00:00<00:00, 175.85it/s]\n",
      "100%|██████████| 36/36 [00:00<00:00, 23921.89it/s]\n"
     ]
    },
    {
     "name": "stdout",
     "output_type": "stream",
     "text": [
      "2022-10-26--21-47-32\n"
     ]
    },
    {
     "name": "stderr",
     "output_type": "stream",
     "text": [
      "100%|██████████| 216/216 [00:02<00:00, 92.02it/s]\n",
      "100%|██████████| 216/216 [00:02<00:00, 82.04it/s]\n",
      "100%|██████████| 216/216 [00:15<00:00, 13.78it/s]\n",
      "100%|██████████| 36/36 [00:01<00:00, 30.71it/s]\n",
      "100%|██████████| 36/36 [00:00<00:00, 162.38it/s]\n",
      "100%|██████████| 36/36 [00:00<00:00, 211.39it/s]\n",
      "100%|██████████| 36/36 [00:00<00:00, 36088.66it/s]\n"
     ]
    },
    {
     "name": "stdout",
     "output_type": "stream",
     "text": [
      "2022-10-26--21-47-46\n"
     ]
    },
    {
     "name": "stderr",
     "output_type": "stream",
     "text": [
      "100%|██████████| 216/216 [00:02<00:00, 82.26it/s]\n",
      "100%|██████████| 216/216 [00:03<00:00, 68.15it/s]\n",
      "100%|██████████| 216/216 [00:13<00:00, 15.71it/s]\n",
      "100%|██████████| 36/36 [00:01<00:00, 31.88it/s]\n",
      "100%|██████████| 36/36 [00:00<00:00, 212.66it/s]\n",
      "100%|██████████| 36/36 [00:00<00:00, 160.10it/s]\n",
      "100%|██████████| 36/36 [00:00<?, ?it/s]\n"
     ]
    },
    {
     "name": "stdout",
     "output_type": "stream",
     "text": [
      "2022-10-26--21-48-39\n"
     ]
    },
    {
     "name": "stderr",
     "output_type": "stream",
     "text": [
      "100%|██████████| 138/138 [00:01<00:00, 84.64it/s]\n",
      "100%|██████████| 138/138 [00:03<00:00, 41.76it/s]\n",
      "100%|██████████| 138/138 [00:09<00:00, 15.05it/s]\n",
      "100%|██████████| 23/23 [00:00<00:00, 25.93it/s]\n",
      "100%|██████████| 23/23 [00:00<00:00, 106.53it/s]\n",
      "100%|██████████| 23/23 [00:00<00:00, 206.31it/s]\n",
      "100%|██████████| 23/23 [00:00<?, ?it/s]\n"
     ]
    },
    {
     "name": "stdout",
     "output_type": "stream",
     "text": [
      "2022-10-26--21-48-51\n"
     ]
    },
    {
     "name": "stderr",
     "output_type": "stream",
     "text": [
      "100%|██████████| 148/148 [00:01<00:00, 84.37it/s]\n",
      "100%|██████████| 148/148 [00:02<00:00, 58.57it/s]\n",
      "100%|██████████| 148/148 [00:06<00:00, 21.87it/s]\n",
      "100%|██████████| 24/24 [00:00<00:00, 29.70it/s]\n",
      "100%|██████████| 24/24 [00:00<00:00, 185.49it/s]\n",
      "100%|██████████| 24/24 [00:00<00:00, 242.24it/s]\n",
      "100%|██████████| 24/24 [00:00<00:00, 24007.46it/s]\n"
     ]
    },
    {
     "name": "stdout",
     "output_type": "stream",
     "text": [
      "2022-10-26--21-49-04\n"
     ]
    },
    {
     "name": "stderr",
     "output_type": "stream",
     "text": [
      "100%|██████████| 149/149 [00:01<00:00, 75.77it/s]\n",
      "100%|██████████| 149/149 [00:02<00:00, 54.21it/s]\n",
      "100%|██████████| 149/149 [00:07<00:00, 20.14it/s]\n",
      "100%|██████████| 24/24 [00:00<00:00, 33.65it/s]\n",
      "100%|██████████| 24/24 [00:00<00:00, 173.40it/s]\n",
      "100%|██████████| 24/24 [00:00<00:00, 238.94it/s]\n",
      "100%|██████████| 24/24 [00:00<00:00, 21826.39it/s]\n"
     ]
    },
    {
     "name": "stdout",
     "output_type": "stream",
     "text": [
      "2022-10-26--21-49-17\n"
     ]
    },
    {
     "name": "stderr",
     "output_type": "stream",
     "text": [
      "100%|██████████| 151/151 [00:01<00:00, 88.60it/s]\n",
      "100%|██████████| 151/151 [00:02<00:00, 57.50it/s]\n",
      "100%|██████████| 151/151 [00:07<00:00, 19.43it/s]\n",
      "100%|██████████| 25/25 [00:00<00:00, 29.91it/s]\n",
      "100%|██████████| 25/25 [00:00<00:00, 173.29it/s]\n",
      "100%|██████████| 25/25 [00:00<00:00, 217.54it/s]\n",
      "100%|██████████| 25/25 [00:00<?, ?it/s]\n"
     ]
    },
    {
     "name": "stdout",
     "output_type": "stream",
     "text": [
      "2022-10-26--21-49-31\n"
     ]
    },
    {
     "name": "stderr",
     "output_type": "stream",
     "text": [
      "100%|██████████| 147/147 [00:01<00:00, 74.28it/s]\n",
      "100%|██████████| 147/147 [00:02<00:00, 61.47it/s]\n",
      "100%|██████████| 147/147 [00:07<00:00, 19.42it/s]\n",
      "100%|██████████| 24/24 [00:00<00:00, 29.59it/s]\n",
      "100%|██████████| 24/24 [00:00<00:00, 174.85it/s]\n",
      "100%|██████████| 24/24 [00:00<00:00, 214.60it/s]\n",
      "100%|██████████| 24/24 [00:00<?, ?it/s]\n"
     ]
    },
    {
     "name": "stdout",
     "output_type": "stream",
     "text": [
      "2022-10-26--21-49-43\n"
     ]
    },
    {
     "name": "stderr",
     "output_type": "stream",
     "text": [
      "100%|██████████| 142/142 [00:01<00:00, 86.59it/s]\n",
      "100%|██████████| 142/142 [00:02<00:00, 54.52it/s]\n",
      "100%|██████████| 142/142 [00:07<00:00, 20.15it/s]\n",
      "100%|██████████| 23/23 [00:00<00:00, 29.57it/s]\n",
      "100%|██████████| 23/23 [00:00<00:00, 195.77it/s]\n",
      "100%|██████████| 23/23 [00:00<00:00, 231.60it/s]\n",
      "100%|██████████| 23/23 [00:00<?, ?it/s]\n"
     ]
    },
    {
     "name": "stdout",
     "output_type": "stream",
     "text": [
      "2022-10-26--21-49-56\n"
     ]
    },
    {
     "name": "stderr",
     "output_type": "stream",
     "text": [
      "100%|██████████| 158/158 [00:01<00:00, 89.20it/s]\n",
      "100%|██████████| 158/158 [00:02<00:00, 65.05it/s]\n",
      "100%|██████████| 158/158 [00:08<00:00, 19.41it/s]\n",
      "100%|██████████| 26/26 [00:00<00:00, 27.80it/s]\n",
      "100%|██████████| 26/26 [00:00<00:00, 149.31it/s]\n",
      "100%|██████████| 26/26 [00:00<00:00, 202.04it/s]\n",
      "100%|██████████| 26/26 [00:00<00:00, 13030.46it/s]\n"
     ]
    },
    {
     "name": "stdout",
     "output_type": "stream",
     "text": [
      "2022-10-26--21-50-11\n"
     ]
    },
    {
     "name": "stderr",
     "output_type": "stream",
     "text": [
      "100%|██████████| 146/146 [00:02<00:00, 66.99it/s]\n",
      "100%|██████████| 146/146 [00:02<00:00, 55.64it/s]\n",
      "100%|██████████| 146/146 [00:07<00:00, 19.88it/s]\n",
      "100%|██████████| 24/24 [00:00<00:00, 32.75it/s]\n",
      "100%|██████████| 24/24 [00:00<00:00, 178.18it/s]\n",
      "100%|██████████| 24/24 [00:00<00:00, 206.02it/s]\n",
      "100%|██████████| 24/24 [00:00<00:00, 24036.13it/s]\n"
     ]
    },
    {
     "name": "stdout",
     "output_type": "stream",
     "text": [
      "2022-10-26--21-50-27\n"
     ]
    },
    {
     "name": "stderr",
     "output_type": "stream",
     "text": [
      "100%|██████████| 150/150 [00:01<00:00, 76.49it/s]\n",
      "100%|██████████| 150/150 [00:02<00:00, 59.88it/s]\n",
      "100%|██████████| 150/150 [00:08<00:00, 17.38it/s]\n",
      "100%|██████████| 25/25 [00:00<00:00, 30.79it/s]\n",
      "100%|██████████| 25/25 [00:00<00:00, 177.38it/s]\n",
      "100%|██████████| 25/25 [00:00<00:00, 212.15it/s]\n",
      "100%|██████████| 25/25 [00:00<00:00, 25085.55it/s]\n"
     ]
    },
    {
     "name": "stdout",
     "output_type": "stream",
     "text": [
      "2022-10-26--21-50-39\n"
     ]
    },
    {
     "name": "stderr",
     "output_type": "stream",
     "text": [
      "100%|██████████| 128/128 [00:01<00:00, 83.44it/s]\n",
      "100%|██████████| 128/128 [00:02<00:00, 57.13it/s]\n",
      "100%|██████████| 128/128 [00:06<00:00, 20.58it/s]\n",
      "100%|██████████| 21/21 [00:00<00:00, 28.60it/s]\n",
      "100%|██████████| 21/21 [00:00<00:00, 188.74it/s]\n",
      "100%|██████████| 21/21 [00:00<00:00, 239.09it/s]\n",
      "100%|██████████| 21/21 [00:00<?, ?it/s]\n"
     ]
    },
    {
     "name": "stdout",
     "output_type": "stream",
     "text": [
      "2022-10-26--21-50-50\n"
     ]
    },
    {
     "name": "stderr",
     "output_type": "stream",
     "text": [
      "100%|██████████| 144/144 [00:01<00:00, 87.39it/s]\n",
      "100%|██████████| 144/144 [00:02<00:00, 65.13it/s]\n",
      "100%|██████████| 144/144 [00:07<00:00, 19.43it/s]\n",
      "100%|██████████| 24/24 [00:00<00:00, 29.83it/s]\n",
      "100%|██████████| 24/24 [00:00<00:00, 135.81it/s]\n",
      "100%|██████████| 24/24 [00:00<00:00, 142.73it/s]\n",
      "100%|██████████| 24/24 [00:00<?, ?it/s]\n"
     ]
    },
    {
     "name": "stdout",
     "output_type": "stream",
     "text": [
      "2022-10-26--21-51-02\n"
     ]
    },
    {
     "name": "stderr",
     "output_type": "stream",
     "text": [
      "100%|██████████| 148/148 [00:01<00:00, 80.36it/s]\n",
      "100%|██████████| 148/148 [00:02<00:00, 55.91it/s]\n",
      "100%|██████████| 148/148 [00:06<00:00, 23.20it/s]\n",
      "100%|██████████| 24/24 [00:00<00:00, 25.40it/s]\n",
      "100%|██████████| 24/24 [00:00<00:00, 110.24it/s]\n",
      "100%|██████████| 24/24 [00:00<00:00, 193.10it/s]\n",
      "100%|██████████| 24/24 [00:00<00:00, 24105.20it/s]\n"
     ]
    },
    {
     "name": "stdout",
     "output_type": "stream",
     "text": [
      "2022-10-26--21-51-14\n"
     ]
    },
    {
     "name": "stderr",
     "output_type": "stream",
     "text": [
      "100%|██████████| 158/158 [00:02<00:00, 65.54it/s]\n",
      "100%|██████████| 158/158 [00:02<00:00, 64.20it/s]\n",
      "100%|██████████| 158/158 [00:08<00:00, 17.79it/s]\n",
      "100%|██████████| 26/26 [00:00<00:00, 26.35it/s]\n",
      "100%|██████████| 26/26 [00:00<00:00, 93.47it/s]\n",
      "100%|██████████| 26/26 [00:00<00:00, 173.96it/s]\n",
      "100%|██████████| 26/26 [00:00<00:00, 26020.50it/s]\n"
     ]
    },
    {
     "name": "stdout",
     "output_type": "stream",
     "text": [
      "2022-10-26--21-51-26\n"
     ]
    },
    {
     "name": "stderr",
     "output_type": "stream",
     "text": [
      "100%|██████████| 131/131 [00:01<00:00, 75.09it/s]\n",
      "100%|██████████| 131/131 [00:02<00:00, 56.62it/s]\n",
      "100%|██████████| 131/131 [00:07<00:00, 18.31it/s]\n",
      "100%|██████████| 21/21 [00:00<00:00, 25.53it/s]\n",
      "100%|██████████| 21/21 [00:00<00:00, 173.21it/s]\n",
      "100%|██████████| 21/21 [00:00<00:00, 217.34it/s]\n",
      "100%|██████████| 21/21 [00:00<?, ?it/s]\n"
     ]
    },
    {
     "name": "stdout",
     "output_type": "stream",
     "text": [
      "2022-10-26--21-51-35\n"
     ]
    },
    {
     "name": "stderr",
     "output_type": "stream",
     "text": [
      "100%|██████████| 131/131 [00:01<00:00, 83.00it/s]\n",
      "100%|██████████| 131/131 [00:02<00:00, 55.03it/s]\n",
      "100%|██████████| 131/131 [00:06<00:00, 19.83it/s]\n",
      "100%|██████████| 21/21 [00:00<00:00, 30.11it/s]\n",
      "100%|██████████| 21/21 [00:00<00:00, 108.43it/s]\n",
      "100%|██████████| 21/21 [00:00<00:00, 214.71it/s]\n",
      "100%|██████████| 21/21 [00:00<00:00, 21726.78it/s]\n"
     ]
    }
   ],
   "source": [
    "## Change the Path Here!!!\n",
    "path_filelist = r\"c:\\Users\\J.J. Bian\\Desktop\\FileEXPORT\"\n",
    "path_videofile = r\"c:\\Users\\J.J. Bian\\Desktop\\FileEXPORT\"\n",
    "filelist = []\n",
    "with open(os.path.join(path_filelist,\"filelist.txt\"),\"r\") as f:\n",
    "    while True:\n",
    "        filelist = f.readline().rstrip(\"\\n\")\n",
    "        if filelist == \"\":\n",
    "            break\n",
    "        else:\n",
    "            print(filelist)\n",
    "            cur_dir = os.path.join(path_videofile,\"videofile\")\n",
    "            if not os.path.exists(os.path.join(os.getcwd(),\"All_val\")):\n",
    "                os.mkdir(\"All_val\")\n",
    "            out_dir = os.path.join(os.getcwd(),\"All_val\")\n",
    "            file = os.path.join(filelist,\"Shareable\",filelist+\".r3d\")\n",
    "            # file = filelist\n",
    "            os.rename(os.path.join(cur_dir,file),os.path.join(cur_dir,file.replace(\"r3d\",\"zip\")))\n",
    "            with zipfile.ZipFile(os.path.join(cur_dir,file.replace(\"r3d\",\"zip\")),\"r\") as zip_f:\n",
    "                zip_f.extractall(os.path.join(cur_dir,filelist))\n",
    "                dataset = R3DSemanticDataset(os.path.join(cur_dir,filelist),[])\n",
    "                export(dataset,os.path.join(cur_dir,filelist),out_dir)\n"
   ]
  },
  {
   "cell_type": "code",
   "execution_count": 43,
   "metadata": {},
   "outputs": [
    {
     "data": {
      "text/plain": [
       "Text(0.5, 0, 'Z Label')"
      ]
     },
     "execution_count": 43,
     "metadata": {},
     "output_type": "execute_result"
    },
    {
     "data": {
      "image/png": "[encoded data removed]",
      "text/plain": [
       "<Figure size 432x288 with 1 Axes>"
      ]
     },
     "metadata": {
      "needs_background": "light"
     },
     "output_type": "display_data"
    }
   ],
   "source": [
    "fig = plt.figure()\n",
    "ax = plt.axes(projection='3d')\n",
    "xdata, ydata, zdata = dataset.poses[:, -3], -dataset.poses[:, -1], dataset.poses[:, -2]\n",
    "ax.scatter3D(xdata[::5], ydata[::5], zdata[::5], c=range(len(zdata[::5])), cmap='Greens');\n",
    "ax.set_xlabel('X Label')\n",
    "ax.set_ylabel('Y Label')\n",
    "ax.set_zlabel('Z Label')"
   ]
  }
 ],
 "metadata": {
  "kernelspec": {
   "display_name": "Python 3.8.5 ('base')",
   "language": "python",
   "name": "python3"
  },
  "language_info": {
   "codemirror_mode": {
    "name": "ipython",
    "version": 3
   },
   "file_extension": ".py",
   "mimetype": "text/x-python",
   "name": "python",
   "nbconvert_exporter": "python",
   "pygments_lexer": "ipython3",
   "version": "3.8.5"
  },
  "orig_nbformat": 4,
  "vscode": {
   "interpreter": {
    "hash": "3b6c1224657c578b9d3e2b49ca831d7f85bea0417468944a724420177cb04cf0"
   }
  }
 },
 "nbformat": 4,
 "nbformat_minor": 2
}
